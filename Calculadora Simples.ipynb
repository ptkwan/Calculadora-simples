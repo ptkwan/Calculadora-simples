{
 "cells": [
  {
   "cell_type": "code",
   "execution_count": 3,
   "id": "d717c70f",
   "metadata": {},
   "outputs": [
    {
     "name": "stdout",
     "output_type": "stream",
     "text": [
      "\n",
      "******************* Calculadora em Python *******************\n",
      "\n",
      "******************* Calculadora em Python *******************\n",
      "1 - Soma\n",
      "2 - Subtração\n",
      "3 - Multiplicação\n",
      "4 - Divisão\n",
      "\n",
      "Qual operação será?\n",
      "4\n",
      "\n",
      "Qual o primeiro número que você quer fazer a operação?\n",
      "2\n",
      "\n",
      "Qual o segundo número que você quer fazer a operação?\n",
      "0\n",
      "\n",
      "Não é possível dividir nada por 0\n"
     ]
    }
   ],
   "source": [
    "# Calculadora em Python\n",
    "\n",
    "print(\"\\n******************* Calculadora em Python *******************\")\n",
    "def soma(arg1,arg2):\n",
    "    soma = arg1 + arg2\n",
    "    print(\"\\nA soma de %s + %r = \" %(arg1,arg2), soma)\n",
    "\n",
    "def sub(arg1,arg2):\n",
    "    sub = arg1 - arg2\n",
    "    print(\"\\nA subtração de %s - %r = \" %(arg1,arg2), sub)\n",
    "    \n",
    "def mul(arg1,arg2):\n",
    "    mul = arg1 * arg2\n",
    "    print(\"\\nA multiplicação de %s * %r = \" %(arg1,arg2), mul)\n",
    "    \n",
    "def div(arg1,arg2):\n",
    "    if arg2 == 0:\n",
    "        print(\"\\nNão é possível dividir nada por 0\")\n",
    "    else:\n",
    "        div = arg1 / arg2\n",
    "        print(\"\\nA divisão de %s / %r = \" %(arg1,arg2), div)\n",
    "        \n",
    "        \n",
    "print(\"\\n******************* Calculadora em Python *******************\")\n",
    "\n",
    "\n",
    "ListaDeOp = [\"1 - Soma\", \"2 - Subtração\", \"3 - Multiplicação\", \"4 - Divisão\"]\n",
    "for i in ListaDeOp:\n",
    "    print(i)\n",
    "    \n",
    "operacao = int(input(\"\\nQual operação será?\\n\"))\n",
    "\n",
    "if operacao >= 5:\n",
    "    print(\"\\nOperação inválida\")\n",
    "\n",
    "else:    \n",
    "    arg1 = float(input(\"\\nQual o primeiro número que você quer fazer a operação?\\n\"))\n",
    "    arg2 = float(input(\"\\nQual o segundo número que você quer fazer a operação?\\n\"))\n",
    "    \n",
    "indice = str(operacao)\n",
    "Listona = len(ListaDeOp) - 1\n",
    "       \n",
    "if operacao == 1:\n",
    "    soma(arg1,arg2)\n",
    "\n",
    "elif operacao == 2:\n",
    "    sub(arg1,arg2)\n",
    "\n",
    "elif operacao == 3:\n",
    "    mul(arg1,arg2)\n",
    "    \n",
    "elif operacao == 4:\n",
    "    div(arg1,arg2)"
   ]
  }
 ],
 "metadata": {
  "kernelspec": {
   "display_name": "Python 3 (ipykernel)",
   "language": "python",
   "name": "python3"
  },
  "language_info": {
   "codemirror_mode": {
    "name": "ipython",
    "version": 3
   },
   "file_extension": ".py",
   "mimetype": "text/x-python",
   "name": "python",
   "nbconvert_exporter": "python",
   "pygments_lexer": "ipython3",
   "version": "3.9.13"
  }
 },
 "nbformat": 4,
 "nbformat_minor": 5
}
